{
 "cells": [
  {
   "cell_type": "code",
   "execution_count": 2,
   "id": "66521a25",
   "metadata": {},
   "outputs": [],
   "source": [
    "import requests"
   ]
  },
  {
   "cell_type": "code",
   "execution_count": null,
   "id": "10e491ac",
   "metadata": {},
   "outputs": [],
   "source": [
    "API_KEY = '你的Melissa API Key'\n",
    "params = {\n",
    "    'id': API_KEY,\n",
    "    'act': 'Check',\n",
    "    'a1': '123 Main St',\n",
    "    'postal': '90210',\n",
    "    'ctry': 'US',\n",
    "    'format': 'JSON'\n",
    "}\n",
    "\n",
    "response = requests.get(\"https://address.melissadata.net/v3/WEB/ContactVerify/doContactVerify\", params=params)\n",
    "print(response.json())\n"
   ]
  }
 ],
 "metadata": {
  "kernelspec": {
   "display_name": "Python 3",
   "language": "python",
   "name": "python3"
  },
  "language_info": {
   "codemirror_mode": {
    "name": "ipython",
    "version": 3
   },
   "file_extension": ".py",
   "mimetype": "text/x-python",
   "name": "python",
   "nbconvert_exporter": "python",
   "pygments_lexer": "ipython3",
   "version": "3.12.7"
  }
 },
 "nbformat": 4,
 "nbformat_minor": 5
}
